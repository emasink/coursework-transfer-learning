{
  "cells": [
    {
      "cell_type": "code",
      "execution_count": null,
      "metadata": {},
      "outputs": [],
      "source": [
        "# !pip3 install torch torchvision"
      ]
    },
    {
      "cell_type": "code",
      "execution_count": 20,
      "metadata": {
        "id": "YAR_bWbxX25i"
      },
      "outputs": [],
      "source": [
        "# %matplotlib inline\n",
        "import os\n",
        "from torch import nn\n",
        "import torchvision.models as models\n",
        "import torch.nn.functional as F\n"
      ]
    },
    {
      "cell_type": "code",
      "execution_count": 3,
      "metadata": {
        "id": "96_2Hg6S-Cjj"
      },
      "outputs": [],
      "source": [
        "import torch\n",
        "import numpy as np\n",
        "import matplotlib.pyplot as plt\n",
        "import pandas as pd\n",
        "from torchvision.transforms import transforms\n",
        "from torch.utils.data import DataLoader\n",
        "from torch.utils.data import Dataset\n",
        "# from sklearn.preprocessing import QuantileTransformer"
      ]
    },
    {
      "cell_type": "markdown",
      "metadata": {
        "id": "oWiLOwsBj0qE"
      },
      "source": [
        "## Preparing data"
      ]
    },
    {
      "cell_type": "code",
      "execution_count": 4,
      "metadata": {},
      "outputs": [],
      "source": [
        "import importlib\n",
        "import DataUtils.data_loader\n",
        "importlib.reload(DataUtils.data_loader)\n",
        "from DataUtils.data_loader import CustomDataset\n",
        "from torchvision.transforms import transforms\n",
        "\n",
        "\n",
        "train_set = CustomDataset(\"train\")#, transforms=augmentations)\n",
        "test_set = CustomDataset(\"test\")\n",
        "test_set, val_set = torch.utils.data.random_split(test_set, [0.5, 0.5])"
      ]
    },
    {
      "cell_type": "code",
      "execution_count": null,
      "metadata": {},
      "outputs": [],
      "source": [
        "# Creating data loaders for the train, validation and tesimg splits\n",
        "train_loader = DataLoader(train_set, batch_size=32, shuffle=True)\n",
        "val_loader = DataLoader(val_set, batch_size=32, shuffle=False)\n",
        "test_loader = DataLoader(test_set, batch_size=32, shuffle=False)"
      ]
    },
    {
      "cell_type": "markdown",
      "metadata": {},
      "source": [
        "## Training algoritihm"
      ]
    },
    {
      "cell_type": "code",
      "execution_count": 6,
      "metadata": {},
      "outputs": [],
      "source": [
        "\n",
        "if torch.backends.mps.is_available():\n",
        "    device = torch.device(\"mps\")\n",
        "else:\n",
        "    device = torch.device(\"cpu\")"
      ]
    },
    {
      "cell_type": "code",
      "execution_count": 9,
      "metadata": {},
      "outputs": [],
      "source": [
        "def train(model, train_loader, val_loader, criterion, optimizer, num_epochs):\n",
        "    model = model.float()\n",
        "    for epoch in range(num_epochs):\n",
        "\n",
        "        model.train()\n",
        "        # Initialize the running loss and accuracy\n",
        "        running_loss = 0.0\n",
        "        running_corrects = 0\n",
        "        for inputs, labels in train_loader:\n",
        "            inputs = inputs.to(device)\n",
        "            labels = labels.float().to(device)\n",
        "            optimizer.zero_grad()\n",
        "            # Forward pass\n",
        "            outputs = model(inputs.float())\n",
        "            _, preds = torch.max(outputs, 1)\n",
        "            preds = F.one_hot(preds)\n",
        "            \n",
        "            if(preds.shape != labels.shape):\n",
        "                preds = F.pad(input=preds, pad=(0, 1), mode='constant', value=0)\n",
        "            loss = criterion(outputs, labels)\n",
        "            # Backward pass and optimizer step\n",
        "            loss.backward()\n",
        "            optimizer.step()\n",
        "            # Update the running loss and accuracy\n",
        "            running_loss += loss.item() * inputs.size(0)\n",
        "            running_corrects += torch.sum(preds == labels)/4\n",
        "        # Calculate the train loss and accuracy\n",
        "        train_loss = running_loss / len(train_set)\n",
        "        train_acc = running_corrects.to(torch.float32) / len(train_set)\n",
        "\n",
        "\n",
        "        # Set model to evaluation mode\n",
        "        model.eval()\n",
        "        model = model.float()\n",
        "        # Initialize the running loss and accuracy\n",
        "        running_loss = 0.0\n",
        "        running_corrects = 0\n",
        "        with torch.no_grad():\n",
        "            for inputs, labels in val_loader:\n",
        "                inputs = inputs.to(device)\n",
        "                labels = labels.float().to(device)\n",
        "                # Forward pass\n",
        "                outputs = model(inputs.float())\n",
        "                _, preds = torch.max(outputs, 1)\n",
        "                preds = torch.nn.functional.one_hot(preds)\n",
        "                loss = criterion(outputs, labels)\n",
        "\n",
        "                if(preds.shape != labels.shape):\n",
        "                    preds = F.pad(input=preds, pad=(0, 1), mode='constant', value=0)\n",
        "                running_loss += loss.item() * inputs.size(0)\n",
        "                running_corrects += torch.sum(preds == labels)/4\n",
        "        # Calculate the validation loss and accuracy\n",
        "        val_loss = running_loss / len(val_set)\n",
        "        val_acc = running_corrects.to(torch.float32) / len(val_set)\n",
        "\n",
        "        # Print the epoch results\n",
        "        print('Epoch [{}/{}], train loss: {:.4f}, train acc: {:.4f}, val loss: {:.4f}, val acc: {:.4f}'\n",
        "              .format(epoch+1, num_epochs, train_loss, train_acc, val_loss, val_acc))\n"
      ]
    },
    {
      "cell_type": "markdown",
      "metadata": {},
      "source": [
        "## Fine tuning"
      ]
    },
    {
      "cell_type": "code",
      "execution_count": null,
      "metadata": {},
      "outputs": [],
      "source": [
        "import torch\n",
        "import torchvision.models as models\n",
        "\n",
        "class ModelConfigurationService:\n",
        "    @staticmethod    \n",
        "    def get_pretrained_resnet18_configuration(lr, momentum):\n",
        "        model = models.resnet18(pretrained=True)\n",
        "    #freezing layers of pre-trained model so that i don't backpropagate through them\n",
        "        for param in model.parameters():\n",
        "            param.requires_grad = False\n",
        "        num_classes = 4\n",
        "        model.fc = torch.nn.Linear(model.fc.in_features, num_classes)\n",
        "    # Defining the loss function and optimizer\n",
        "        criterion = torch.nn.CrossEntropyLoss()\n",
        "        optimizer = torch.optim.SGD(model.fc.parameters(), lr=lr, momentum=momentum)\n",
        "\n",
        "        model.to(device)\n",
        "        return model,criterion,optimizer\n",
        "    \n",
        "    @staticmethod\n",
        "    def unfreeze_model_layers(model):\n",
        "        for param in model.parameters():\n",
        "            param.requires_grad = True\n",
        "        optimizer = torch.optim.SGD(model.parameters(), lr=0.001, momentum=0.9)\n",
        "        return optimizer\n",
        "# Loading the pre-trained ResNet-18 model\n",
        "\n",
        "\n",
        "model, criterion, optimizer = ModelConfigurationService.get_pretrained_resnet18_configuration(lr=0.001, momentum=0.9)\n",
        "\n",
        "train(model, train_loader, val_loader, criterion, optimizer, num_epochs=5)\n",
        "\n",
        "optimizer = ModelConfigurationService.unfreeze_model_layers(model)\n",
        "\n",
        "train(model, train_loader, val_loader, criterion, optimizer, num_epochs=3)\n"
      ]
    },
    {
      "cell_type": "code",
      "execution_count": 12,
      "metadata": {},
      "outputs": [],
      "source": [
        "def get_inedexes_of_max_values(list_of_one_hot):\n",
        "    list_of_indices = [one_hot_line.index(max(one_hot_line)) for one_hot_line in list_of_one_hot.tolist()]\n",
        "    return list_of_indices\n",
        "\n",
        "test_labels = []\n",
        "test_outputs = []\n",
        "\n",
        "for images, labels in test_loader:\n",
        "\n",
        "    images = images.to(device)\n",
        "    label_classes = get_inedexes_of_max_values(labels.numpy())\n",
        "    test_labels += label_classes\n",
        "    labels = labels.float().to(device)\n",
        "    outputs = model(images.float())\n",
        "    _, predicted = torch.max(outputs, 1)\n",
        "    predicted =  predicted.tolist()\n",
        "    test_outputs += predicted"
      ]
    },
    {
      "cell_type": "code",
      "execution_count": 29,
      "metadata": {},
      "outputs": [
        {
          "data": {
            "image/png": "[encoded data removed]",
            "text/plain": [
              "<Figure size 640x480 with 2 Axes>"
            ]
          },
          "metadata": {},
          "output_type": "display_data"
        }
      ],
      "source": [
        "import matplotlib.pyplot as plt\n",
        "import numpy\n",
        "from sklearn import metrics\n",
        "\n",
        "confusion_matrix = metrics.confusion_matrix(test_labels, test_outputs)\n",
        "\n",
        "cm_display = metrics.ConfusionMatrixDisplay(confusion_matrix = confusion_matrix, display_labels = ['barren land', 'trees', 'grassland', 'none'])\n",
        "\n",
        "cm_display.plot()\n",
        "plt.show() \n"
      ]
    }
  ],
  "metadata": {
    "colab": {
      "provenance": []
    },
    "kernelspec": {
      "display_name": "Python 3",
      "name": "python3"
    },
    "language_info": {
      "codemirror_mode": {
        "name": "ipython",
        "version": 3
      },
      "file_extension": ".py",
      "mimetype": "text/x-python",
      "name": "python",
      "nbconvert_exporter": "python",
      "pygments_lexer": "ipython3",
      "version": "3.11.6"
    }
  },
  "nbformat": 4,
  "nbformat_minor": 0
}
