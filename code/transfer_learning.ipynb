{
 "cells": [
  {
   "cell_type": "code",
   "execution_count": 24,
   "metadata": {},
   "outputs": [],
   "source": [
    "import DataUtils.dubai_data_generator as ddg\n",
    "import importlib\n",
    "importlib.reload(ddg)\n",
    "from scipy.stats import multivariate_normal\n",
    "import matplotlib.pyplot as plt\n",
    "import torch.nn.functional as F\n",
    "import pickle\n",
    "import numpy\n",
    "import torch\n",
    "import numpy as np\n",
    "from torchvision import transforms\n",
    "import torchvision.models as models\n",
    "import torch.nn as nn\n",
    "import pickle\n",
    "import os\n",
    "importlib.reload(ddg)\n",
    "from torch.utils.data import DataLoader\n",
    "from torch.utils.data import random_split\n",
    "from torch.nn import Identity\n",
    "from sklearn.metrics import accuracy_score, precision_score, recall_score, f1_score, confusion_matrix\n",
    "import seaborn as sns\n"
   ]
  },
  {
   "cell_type": "markdown",
   "metadata": {},
   "source": [
    "## Prepare datset"
   ]
  },
  {
   "cell_type": "code",
   "execution_count": null,
   "metadata": {},
   "outputs": [],
   "source": [
    "class_names = ['building', 'land', 'road', 'vegetation', 'water', 'unlabeled']\n",
    "\n",
    "augmentations = transforms.Compose([\n",
    "    transforms.ToTensor()\n",
    "    ])\n",
    "dataset_path = os.path.join(os.path.dirname(os.getcwd()), 'data', 'dubai_dataset')\n",
    "dataset = ddg.DubaiDataset(dataset_path, transforms=augmentations)\n",
    "class_names = dataset.get__class_names()\n",
    "for class_name in class_names:\n",
    "    print(dataset.get_image_count_for_class(class_name))\n",
    "\n",
    "train_set, test_set, val_set = random_split(dataset, [int(len(dataset) * 0.8), int(len(dataset) * 0.1), int(len(dataset) * 0.1)])\n",
    "train_loader = DataLoader(train_set, batch_size=64, shuffle=True)\n",
    "test_loader = DataLoader(test_set, batch_size=64, shuffle=True)\n",
    "val_loader = DataLoader(val_set, batch_size=64, shuffle=True)"
   ]
  },
  {
   "cell_type": "markdown",
   "metadata": {},
   "source": [
    "# Load saved resnet"
   ]
  },
  {
   "cell_type": "code",
   "execution_count": null,
   "metadata": {},
   "outputs": [],
   "source": [
    "fine_tuned_model_file = os.path.join(os.path.join(os.getcwd()), 'fine_tuned_model.pth')\n",
    "feature_extractor = models.resnet18(pretrained=True) \n",
    "num_classes = 4 \n",
    "\n",
    "feature_extractor.fc = torch.nn.Linear(feature_extractor.fc.in_features, num_classes)\n",
    "feature_extractor.load_state_dict(torch.load(fine_tuned_model_file))\n",
    "feature_extractor.fc = nn.Identity()\n",
    "feature_extractor.eval()\n"
   ]
  },
  {
   "cell_type": "markdown",
   "metadata": {},
   "source": [
    "## Data preprocessing"
   ]
  },
  {
   "cell_type": "code",
   "execution_count": 27,
   "metadata": {},
   "outputs": [],
   "source": [
    "if torch.backends.mps.is_available():\n",
    "    device = torch.device(\"mps\")\n",
    "else:\n",
    "    device = torch.device(\"cpu\")\n",
    "\n",
    "feature_generator = feature_extractor\n",
    "\n",
    "feature_generator.to(device)\n",
    "feature_generator.eval()\n",
    "\n",
    "def get_features_with_labels(device, feature_generator, loader):\n",
    "    feature_generator.eval()\n",
    "    model_without_fn_features = []\n",
    "    all_labels = []\n",
    "    with torch.no_grad():\n",
    "        for inputs, labels in loader: \n",
    "            inputs = inputs.to(device)\n",
    "            outputs = feature_generator(inputs)\n",
    "            all_labels.extend(labels)\n",
    "            model_without_fn_features.extend(outputs.cpu().tolist())\n",
    "    return model_without_fn_features, all_labels"
   ]
  },
  {
   "cell_type": "code",
   "execution_count": 28,
   "metadata": {},
   "outputs": [],
   "source": [
    "\n",
    "class DubaiFeatureDataset(torch.utils.data.Dataset):\n",
    "    def __init__(self, features, labels, mode=None):\n",
    "        self.features = np.array(features)\n",
    "        self.labels = labels\n",
    "        self.cov = np.cov(features, rowvar=False)\n",
    "        self.means, self.stds = self.get_means_and_stds(self.features)\n",
    "        \n",
    "        match mode:\n",
    "            case 'normalized':\n",
    "                self.features = self.normalize_features(self.features, self.means, self.stds)\n",
    "            case 'cdf':\n",
    "                self.features = self.get_cdf(self.features, self.means, self.cov)\n",
    "            case _:\n",
    "                pass\n",
    "\n",
    "    def __getitem__(self, index):\n",
    "        features = np.array(self.features[index])\n",
    "        features = np.float32(features)\n",
    "\n",
    "        return features, self.labels[index]\n",
    "\n",
    "    def __len__(self):\n",
    "        return len(self.features)\n",
    "    \n",
    "    def get_means_and_stds(self, features):\n",
    "        means = []\n",
    "        stds = []\n",
    "        for i in range(features.shape[1]):\n",
    "            idx = features[:, i] != 0\n",
    "            means.append(np.mean(features[idx, i]))\n",
    "            stds.append(np.std(features[idx, i]))\n",
    "        stds[stds == 0] = 1\n",
    "        return means, stds\n",
    "    \n",
    "    def get_cdf(self, x, mean, cov):\n",
    "        cdf = np.empty(x.shape)\n",
    "        for i in range(x.shape[1]):\n",
    "            cdf[:,i] = multivariate_normal.cdf(x[:,i], mean=mean[i], cov=cov[i,i], allow_singular=True)\n",
    "        return cdf\n",
    "    \n",
    "    def normalize_features(self, outputs, means, stds):\n",
    "        for i, (mean, std) in enumerate(zip(means, stds)):\n",
    "            outputs = np.array(outputs)\n",
    "            if std == 0:\n",
    "                continue\n",
    "            outputs[:, i] = (outputs[:, i] - mean) / std\n",
    "        return outputs"
   ]
  },
  {
   "cell_type": "code",
   "execution_count": 6,
   "metadata": {},
   "outputs": [],
   "source": [
    "def normalize_features(outputs, means, stds):\n",
    "    for i, (mean, std) in enumerate(zip(means, stds)):\n",
    "        outputs = np.array(outputs)\n",
    "        if std == 0:\n",
    "            continue\n",
    "        outputs[:, i] = (outputs[:, i] - mean) / std\n",
    "    return outputs"
   ]
  },
  {
   "cell_type": "code",
   "execution_count": null,
   "metadata": {},
   "outputs": [],
   "source": [
    "train_features, train_labels = get_features_with_labels(device, feature_generator, train_loader)\n",
    "feature_train_set = DubaiFeatureDataset(train_features, train_labels)\n",
    "feature_train_loader = DataLoader(feature_train_set, batch_size=32, shuffle=True)\n",
    "\n",
    "val_features, val_labels = get_features_with_labels(device, feature_generator, val_loader)\n",
    "feature_val_set = DubaiFeatureDataset(val_features, val_labels)\n",
    "feature_val_loader = DataLoader(feature_val_set, batch_size=32, shuffle=True)\n",
    "\n",
    "test_features, test_labels = get_features_with_labels(device, feature_generator, test_loader)\n",
    "test_feature_set = DubaiFeatureDataset(test_features, test_labels)\n",
    "test_feature_loader = DataLoader(test_feature_set, batch_size=32, shuffle=False)"
   ]
  },
  {
   "cell_type": "code",
   "execution_count": null,
   "metadata": {},
   "outputs": [],
   "source": [
    "train_features, train_labels = get_features_with_labels(device, feature_generator, train_loader)\n",
    "normalized_feature_train_set = DubaiFeatureDataset(train_features, train_labels, mode='normalized')\n",
    "normalized_feature_train_loader = DataLoader(normalized_feature_train_set, batch_size=32, shuffle=True)\n",
    "\n",
    "val_features, val_labels = get_features_with_labels(device, feature_generator, val_loader)\n",
    "normalized_feature_val_set = DubaiFeatureDataset(val_features, val_labels, mode='normalized')\n",
    "normalized_feature_val_loader = DataLoader(normalized_feature_val_set, batch_size=32, shuffle=True)\n",
    "\n",
    "\n",
    "test_features, test_labels = get_features_with_labels(device, feature_generator, test_loader)\n",
    "normalized_test_feature_set = DubaiFeatureDataset(test_features, test_labels, mode='normalized')\n",
    "normalized_test_feature_loader = DataLoader(normalized_test_feature_set, batch_size=32, shuffle=False)"
   ]
  },
  {
   "cell_type": "code",
   "execution_count": null,
   "metadata": {},
   "outputs": [],
   "source": [
    "train_features, train_labels = get_features_with_labels(device, feature_generator, train_loader)\n",
    "cdf_feature_train_set = DubaiFeatureDataset(train_features, train_labels, mode='cdf')\n",
    "cdf_feature_train_loader = DataLoader(cdf_feature_train_set, batch_size=32, shuffle=True)\n",
    "\n",
    "val_features, val_labels = get_features_with_labels(device, feature_generator, val_loader)\n",
    "cdf_feature_val_set = DubaiFeatureDataset(val_features, val_labels, mode='cdf')\n",
    "cdf_feature_val_loader = DataLoader(cdf_feature_val_set, batch_size=32, shuffle=True)\n",
    "\n",
    "test_features, test_labels = get_features_with_labels(device, feature_generator, test_loader)\n",
    "cdf_test_feature_set = DubaiFeatureDataset(test_features, test_labels, mode='cdf')\n",
    "cdf_feature_test_loader = DataLoader(cdf_test_feature_set, batch_size=32, shuffle=True)"
   ]
  },
  {
   "cell_type": "markdown",
   "metadata": {},
   "source": [
    "## Training model with new dataset"
   ]
  },
  {
   "cell_type": "code",
   "execution_count": 30,
   "metadata": {},
   "outputs": [],
   "source": [
    "class EarlyStopper:\n",
    "    def __init__(self, patience=1, min_delta=0):\n",
    "        self.patience = patience\n",
    "        self.min_delta = min_delta\n",
    "        self.counter = 0\n",
    "        self.min_validation_loss = float('inf')\n",
    "\n",
    "    def early_stop(self, validation_loss):\n",
    "        if validation_loss < self.min_validation_loss:\n",
    "            self.min_validation_loss = validation_loss\n",
    "            self.counter = 0\n",
    "        elif validation_loss > (self.min_validation_loss + self.min_delta):\n",
    "            self.counter += 1\n",
    "            if self.counter >= self.patience:\n",
    "                return True\n",
    "        return False"
   ]
  },
  {
   "cell_type": "code",
   "execution_count": 31,
   "metadata": {},
   "outputs": [],
   "source": [
    "def one_hot_encode(y, num_classes):\n",
    "    return torch.eye(num_classes)[y]\n",
    "\n",
    "# Define model\n",
    "class NeuralNetworkModel(nn.Module):\n",
    "    def __init__(self):\n",
    "        super().__init__()\n",
    "        self.l1 = nn.Linear(512, 128)\n",
    "        \n",
    "        self.l2 = nn.Linear(128, 6)\n",
    "    \n",
    "    def forward(self, x):\n",
    "        x = F.relu(self.l1(x))\n",
    "        x = self.l2(x)\n",
    "        return x\n",
    "\n",
    "\n",
    "model = NeuralNetworkModel()\n",
    "\n",
    "# Loss and optimizer\n",
    "criterion = nn.CrossEntropyLoss()\n",
    "optimizer = torch.optim.Adam(model.parameters(), lr=0.001)\n",
    "\n",
    "def train_model(model, feature_train_loader, feature_val_loader, criterion, optimizer):\n",
    "    model.to(device)\n",
    "# Training loop\n",
    "    early_stopper = EarlyStopper(patience=3, min_delta=0.1)\n",
    "    metrics_list = []\n",
    "    for epoch in range(30):\n",
    "        model.train()\n",
    "        train_loss_values = []\n",
    "        corrects = 0\n",
    "        for X_batch, y_batch in feature_train_loader:\n",
    "            X_batch = X_batch.to(device)\n",
    "            y_batch = y_batch.to(device)\n",
    "            optimizer.zero_grad()\n",
    "            outputs = model(X_batch)\n",
    "            y_batch = y_batch.squeeze()\n",
    "            loss = criterion(outputs, y_batch)\n",
    "            loss.backward()\n",
    "            optimizer.step()\n",
    "            outputs = outputs.argmax(dim=1)\n",
    "            y_batch = y_batch.argmax(dim=1)\n",
    "        \n",
    "            corrects += np.sum((outputs.cpu() == y_batch.cpu()).numpy())\n",
    "            train_loss_values.append(loss.item())\n",
    "        epoch_train_accuracy = corrects/len(train_set)\n",
    "        epoch_train_loss_values = np.mean(train_loss_values)\n",
    "\n",
    "        model.eval()\n",
    "        val_loss_values = []\n",
    "        corrects = 0\n",
    "        for X_batch, y_batch in feature_val_loader:\n",
    "            X_batch = X_batch.to(device)\n",
    "            y_batch = y_batch.to(device)\n",
    "            optimizer.zero_grad()\n",
    "            outputs = model(X_batch)\n",
    "            y_batch = y_batch.squeeze()\n",
    "            loss = criterion(outputs, y_batch)\n",
    "            outputs = outputs.argmax(dim=1)\n",
    "            y_batch = y_batch.argmax(dim=1)\n",
    "        \n",
    "            corrects += np.sum((outputs.cpu() == y_batch.cpu()).numpy())\n",
    "            val_loss_values.append(loss.item())\n",
    "        epoch_val_accuracy = corrects/len(val_set)\n",
    "        epoch_val_loss = np.mean(val_loss_values)\n",
    "        metrics_list.append([epoch_train_accuracy, epoch_train_loss_values, epoch_val_accuracy, epoch_val_loss])\n",
    "        print(f\"Epoch {epoch+1}/{30}, train_loss: {epoch_train_loss_values:.4f}, train_accuracy: {epoch_train_accuracy:.4f}, val_loss: {epoch_val_loss:.4f}, val_accuracy: {epoch_val_accuracy:.4f}\")\n",
    "        \n",
    "        if early_stopper.early_stop(epoch_val_loss):             \n",
    "            break\n",
    "    return model, metrics_list\n",
    "    "
   ]
  },
  {
   "cell_type": "code",
   "execution_count": null,
   "metadata": {},
   "outputs": [],
   "source": [
    "model = NeuralNetworkModel()\n",
    "optimizer = torch.optim.Adam(model.parameters(), lr=0.001)\n",
    "model1, metrics_list = train_model(model, feature_train_loader, feature_val_loader, criterion, optimizer)\n",
    "\n",
    "with open('SavedVariables/m2_metrics.pkl', 'wb') as f:\n",
    "    pickle.dump(metrics_list, f)"
   ]
  },
  {
   "cell_type": "code",
   "execution_count": null,
   "metadata": {},
   "outputs": [],
   "source": [
    "optimizer = torch.optim.Adam(model.parameters(), lr=0.001)\n",
    "model = NeuralNetworkModel()\n",
    "model2, metrics_list = train_model(model, normalized_feature_train_loader, normalized_feature_val_loader, criterion, optimizer)\n",
    "\n",
    "with open('SavedVariables/m2_metrics_normalized.pkl', 'wb') as f:\n",
    "    pickle.dump(metrics_list, f)"
   ]
  },
  {
   "cell_type": "code",
   "execution_count": 12,
   "metadata": {},
   "outputs": [
    {
     "name": "stdout",
     "output_type": "stream",
     "text": [
      "Epoch 1/30, train_loss: 0.4980, train_accuracy: 0.8335, val_loss: 0.4267, val_accuracy: 0.8602\n",
      "Epoch 2/30, train_loss: 0.4117, train_accuracy: 0.8652, val_loss: 0.3770, val_accuracy: 0.8786\n",
      "Epoch 3/30, train_loss: 0.3825, train_accuracy: 0.8740, val_loss: 0.3687, val_accuracy: 0.8820\n",
      "Epoch 4/30, train_loss: 0.3649, train_accuracy: 0.8820, val_loss: 0.3506, val_accuracy: 0.8910\n",
      "Epoch 5/30, train_loss: 0.3530, train_accuracy: 0.8875, val_loss: 0.3490, val_accuracy: 0.8884\n",
      "Epoch 6/30, train_loss: 0.3440, train_accuracy: 0.8887, val_loss: 0.3392, val_accuracy: 0.8902\n",
      "Epoch 7/30, train_loss: 0.3386, train_accuracy: 0.8909, val_loss: 0.3438, val_accuracy: 0.8930\n",
      "Epoch 8/30, train_loss: 0.3320, train_accuracy: 0.8935, val_loss: 0.3260, val_accuracy: 0.8988\n",
      "Epoch 9/30, train_loss: 0.3271, train_accuracy: 0.8952, val_loss: 0.3150, val_accuracy: 0.8994\n",
      "Epoch 10/30, train_loss: 0.3226, train_accuracy: 0.8970, val_loss: 0.3207, val_accuracy: 0.9002\n",
      "Epoch 11/30, train_loss: 0.3174, train_accuracy: 0.8985, val_loss: 0.3403, val_accuracy: 0.8926\n",
      "Epoch 12/30, train_loss: 0.3132, train_accuracy: 0.8995, val_loss: 0.3289, val_accuracy: 0.8966\n",
      "Epoch 13/30, train_loss: 0.3131, train_accuracy: 0.8979, val_loss: 0.3211, val_accuracy: 0.8984\n",
      "Epoch 14/30, train_loss: 0.3096, train_accuracy: 0.9003, val_loss: 0.3204, val_accuracy: 0.9004\n",
      "Epoch 15/30, train_loss: 0.3088, train_accuracy: 0.9004, val_loss: 0.3064, val_accuracy: 0.9056\n",
      "Epoch 16/30, train_loss: 0.3039, train_accuracy: 0.9024, val_loss: 0.3011, val_accuracy: 0.9044\n",
      "Epoch 17/30, train_loss: 0.3009, train_accuracy: 0.9036, val_loss: 0.3046, val_accuracy: 0.9066\n",
      "Epoch 18/30, train_loss: 0.3002, train_accuracy: 0.9045, val_loss: 0.3239, val_accuracy: 0.9000\n",
      "Epoch 19/30, train_loss: 0.2966, train_accuracy: 0.9045, val_loss: 0.3089, val_accuracy: 0.9024\n",
      "Epoch 20/30, train_loss: 0.2946, train_accuracy: 0.9051, val_loss: 0.3266, val_accuracy: 0.8942\n",
      "Epoch 21/30, train_loss: 0.2948, train_accuracy: 0.9053, val_loss: 0.3076, val_accuracy: 0.9034\n",
      "Epoch 22/30, train_loss: 0.2910, train_accuracy: 0.9066, val_loss: 0.3163, val_accuracy: 0.9018\n",
      "Epoch 23/30, train_loss: 0.2898, train_accuracy: 0.9065, val_loss: 0.3029, val_accuracy: 0.9054\n",
      "Epoch 24/30, train_loss: 0.2879, train_accuracy: 0.9079, val_loss: 0.3071, val_accuracy: 0.9048\n",
      "Epoch 25/30, train_loss: 0.2883, train_accuracy: 0.9074, val_loss: 0.2952, val_accuracy: 0.9088\n",
      "Epoch 26/30, train_loss: 0.2882, train_accuracy: 0.9069, val_loss: 0.3010, val_accuracy: 0.9076\n",
      "Epoch 27/30, train_loss: 0.2836, train_accuracy: 0.9085, val_loss: 0.3191, val_accuracy: 0.8990\n",
      "Epoch 28/30, train_loss: 0.2833, train_accuracy: 0.9082, val_loss: 0.3049, val_accuracy: 0.9060\n",
      "Epoch 29/30, train_loss: 0.2810, train_accuracy: 0.9094, val_loss: 0.3107, val_accuracy: 0.9054\n",
      "Epoch 30/30, train_loss: 0.2810, train_accuracy: 0.9092, val_loss: 0.3008, val_accuracy: 0.9060\n"
     ]
    }
   ],
   "source": [
    "model = NeuralNetworkModel()\n",
    "optimizer = torch.optim.Adam(model.parameters(), lr=0.001)\n",
    "model3, metrics_list = train_model(model, cdf_feature_train_loader, cdf_feature_val_loader, criterion, optimizer)\n",
    "\n",
    "with open('SavedVariables/m2_metrics_cdf.pkl', 'wb') as f:\n",
    "    pickle.dump(metrics_list, f)"
   ]
  },
  {
   "cell_type": "markdown",
   "metadata": {},
   "source": [
    "## Evaluating model"
   ]
  },
  {
   "cell_type": "code",
   "execution_count": 34,
   "metadata": {},
   "outputs": [],
   "source": [
    "def test_model(model, dataloader):\n",
    "    model.eval()\n",
    "    predictions = []\n",
    "    labels = []\n",
    "    corrects = 0\n",
    "    for X_batch, y_batch in dataloader:\n",
    "        X_batch = X_batch.to(device)\n",
    "        y_batch = y_batch.to(device)\n",
    "        optimizer.zero_grad()\n",
    "        outputs = model(X_batch)\n",
    "        y_batch = y_batch.squeeze()\n",
    "        outputs = outputs.argmax(dim=1)\n",
    "        y_batch = y_batch.argmax(dim=1)\n",
    "        predictions.extend(outputs.cpu())\n",
    "        labels.extend(y_batch.cpu())\n",
    "        corrects += np.sum((outputs.cpu() == y_batch.cpu()).numpy())\n",
    "    return predictions, labels\n"
   ]
  },
  {
   "cell_type": "code",
   "execution_count": 20,
   "metadata": {},
   "outputs": [],
   "source": [
    "predictions, labels = test_model(model3, cdf_feature_test_loader)"
   ]
  },
  {
   "cell_type": "code",
   "execution_count": null,
   "metadata": {},
   "outputs": [],
   "source": [
    "\n",
    "def get_classification_metrics(y_true, y_pred):\n",
    "    accuracy = accuracy_score(y_true, y_pred)\n",
    "    precision = precision_score(y_true, y_pred, average='weighted')\n",
    "    recall = recall_score(y_true, y_pred, average='weighted')\n",
    "    f1 = f1_score(y_true, y_pred, average='weighted')\n",
    "    conf_matrix = confusion_matrix(y_true, y_pred)\n",
    "\n",
    "    return {\n",
    "        \"Accuracy\": accuracy,\n",
    "        \"Precision\": precision,\n",
    "        \"Recall\": recall,\n",
    "        \"F1 Score\": f1,\n",
    "        \"Confusion Matrix\": conf_matrix\n",
    "    }\n",
    "\n",
    "# Example usage\n",
    "metrics = get_classification_metrics(labels, predictions)"
   ]
  },
  {
   "cell_type": "code",
   "execution_count": 37,
   "metadata": {},
   "outputs": [
    {
     "data": {
      "text/plain": [
       "{'Accuracy': 0.7918,\n",
       " 'Precision': 0.7364493293063117,\n",
       " 'Recall': 0.7918,\n",
       " 'F1 Score': 0.7605005064388486,\n",
       " 'Confusion Matrix': array([[ 612,   92,    0,   72,    1,    0],\n",
       "        [  48, 1770,    0,   47,   10,    0],\n",
       "        [  20,   90,    0,  178,   16,    0],\n",
       "        [  28,   31,    0,  384,  339,    0],\n",
       "        [   0,   14,    0,   31, 1193,    0],\n",
       "        [   9,   13,    0,    1,    1,    0]])}"
      ]
     },
     "execution_count": 37,
     "metadata": {},
     "output_type": "execute_result"
    }
   ],
   "source": [
    "metrics"
   ]
  },
  {
   "cell_type": "code",
   "execution_count": 19,
   "metadata": {},
   "outputs": [
    {
     "data": {
      "image/png": "[encoded data removed]",
      "text/plain": [
       "<Figure size 640x480 with 2 Axes>"
      ]
     },
     "metadata": {},
     "output_type": "display_data"
    }
   ],
   "source": [
    "matrix = metrics['Confusion Matrix']\n",
    "display_labels = [ \"pastatai\", \"žemė\", \"keliai\", \"augmenija\", \"vanduo\", \"kita\"]\n",
    "sns.heatmap(matrix, cmap='YlOrBr', annot=True, fmt='g', xticklabels=display_labels, yticklabels=display_labels)\n",
    "plt.xlabel('Prognozė')\n",
    "plt.ylabel('Tikrosios reikšmės')\n",
    "plt.show()"
   ]
  }
 ],
 "metadata": {
  "kernelspec": {
   "display_name": "Python 3",
   "language": "python",
   "name": "python3"
  },
  "language_info": {
   "codemirror_mode": {
    "name": "ipython",
    "version": 3
   },
   "file_extension": ".py",
   "mimetype": "text/x-python",
   "name": "python",
   "nbconvert_exporter": "python",
   "pygments_lexer": "ipython3",
   "version": "3.12.4"
  }
 },
 "nbformat": 4,
 "nbformat_minor": 2
}
